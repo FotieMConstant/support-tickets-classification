{
 "cells": [
  {
   "cell_type": "markdown",
   "metadata": {},
   "source": [
    "# Support tickets classification model\n",
    "\n",
    "This notebook aims to classify support tickets using Bert transfromer model. \n",
    "\n",
    "By Constant Fotie Moghommahie\n",
    "\n",
    "[fotiecodes](https://fotiecodes.com)\n"
   ]
  },
  {
   "cell_type": "markdown",
   "metadata": {},
   "source": [
    "### 1. Import and install neccessary libs\n"
   ]
  },
  {
   "cell_type": "code",
   "execution_count": 48,
   "metadata": {},
   "outputs": [
    {
     "name": "stdout",
     "output_type": "stream",
     "text": [
      "Requirement already satisfied: nltk in /Users/fotiem.constant/.pyenv/versions/3.10.6/lib/python3.10/site-packages (3.8.1)\n",
      "Requirement already satisfied: tqdm in /Users/fotiem.constant/.pyenv/versions/3.10.6/lib/python3.10/site-packages (from nltk) (4.66.1)\n",
      "Requirement already satisfied: regex>=2021.8.3 in /Users/fotiem.constant/.pyenv/versions/3.10.6/lib/python3.10/site-packages (from nltk) (2023.10.3)\n",
      "Requirement already satisfied: joblib in /Users/fotiem.constant/.pyenv/versions/3.10.6/lib/python3.10/site-packages (from nltk) (1.3.2)\n",
      "Requirement already satisfied: click in /Users/fotiem.constant/.pyenv/versions/3.10.6/lib/python3.10/site-packages (from nltk) (8.1.7)\n",
      "\n",
      "\u001b[1m[\u001b[0m\u001b[34;49mnotice\u001b[0m\u001b[1;39;49m]\u001b[0m\u001b[39;49m A new release of pip available: \u001b[0m\u001b[31;49m22.2.1\u001b[0m\u001b[39;49m -> \u001b[0m\u001b[32;49m23.3.1\u001b[0m\n",
      "\u001b[1m[\u001b[0m\u001b[34;49mnotice\u001b[0m\u001b[1;39;49m]\u001b[0m\u001b[39;49m To update, run: \u001b[0m\u001b[32;49mpip install --upgrade pip\u001b[0m\n",
      "Requirement already satisfied: tensorflow in /Users/fotiem.constant/.pyenv/versions/3.10.6/lib/python3.10/site-packages (2.15.0)\n",
      "Requirement already satisfied: google-pasta>=0.1.1 in /Users/fotiem.constant/.pyenv/versions/3.10.6/lib/python3.10/site-packages (from tensorflow) (0.2.0)\n",
      "Requirement already satisfied: wrapt<1.15,>=1.11.0 in /Users/fotiem.constant/.pyenv/versions/3.10.6/lib/python3.10/site-packages (from tensorflow) (1.14.1)\n",
      "Requirement already satisfied: h5py>=2.9.0 in /Users/fotiem.constant/.pyenv/versions/3.10.6/lib/python3.10/site-packages (from tensorflow) (3.10.0)\n",
      "Requirement already satisfied: astunparse>=1.6.0 in /Users/fotiem.constant/.pyenv/versions/3.10.6/lib/python3.10/site-packages (from tensorflow) (1.6.3)\n",
      "Requirement already satisfied: tensorboard<2.16,>=2.15 in /Users/fotiem.constant/.pyenv/versions/3.10.6/lib/python3.10/site-packages (from tensorflow) (2.15.1)\n",
      "Requirement already satisfied: ml-dtypes~=0.2.0 in /Users/fotiem.constant/.pyenv/versions/3.10.6/lib/python3.10/site-packages (from tensorflow) (0.2.0)\n",
      "Requirement already satisfied: grpcio<2.0,>=1.24.3 in /Users/fotiem.constant/.pyenv/versions/3.10.6/lib/python3.10/site-packages (from tensorflow) (1.59.2)\n",
      "Requirement already satisfied: packaging in /Users/fotiem.constant/.pyenv/versions/3.10.6/lib/python3.10/site-packages (from tensorflow) (23.2)\n",
      "Requirement already satisfied: keras<2.16,>=2.15.0 in /Users/fotiem.constant/.pyenv/versions/3.10.6/lib/python3.10/site-packages (from tensorflow) (2.15.0)\n",
      "Requirement already satisfied: opt-einsum>=2.3.2 in /Users/fotiem.constant/.pyenv/versions/3.10.6/lib/python3.10/site-packages (from tensorflow) (3.3.0)\n",
      "Requirement already satisfied: setuptools in /Users/fotiem.constant/.pyenv/versions/3.10.6/lib/python3.10/site-packages (from tensorflow) (63.2.0)\n",
      "Requirement already satisfied: six>=1.12.0 in /Users/fotiem.constant/.pyenv/versions/3.10.6/lib/python3.10/site-packages (from tensorflow) (1.16.0)\n",
      "Requirement already satisfied: termcolor>=1.1.0 in /Users/fotiem.constant/.pyenv/versions/3.10.6/lib/python3.10/site-packages (from tensorflow) (2.3.0)\n",
      "Requirement already satisfied: protobuf!=4.21.0,!=4.21.1,!=4.21.2,!=4.21.3,!=4.21.4,!=4.21.5,<5.0.0dev,>=3.20.3 in /Users/fotiem.constant/.pyenv/versions/3.10.6/lib/python3.10/site-packages (from tensorflow) (3.20.3)\n",
      "Requirement already satisfied: flatbuffers>=23.5.26 in /Users/fotiem.constant/.pyenv/versions/3.10.6/lib/python3.10/site-packages (from tensorflow) (23.5.26)\n",
      "Requirement already satisfied: gast!=0.5.0,!=0.5.1,!=0.5.2,>=0.2.1 in /Users/fotiem.constant/.pyenv/versions/3.10.6/lib/python3.10/site-packages (from tensorflow) (0.5.4)\n",
      "Requirement already satisfied: typing-extensions>=3.6.6 in /Users/fotiem.constant/.pyenv/versions/3.10.6/lib/python3.10/site-packages (from tensorflow) (4.8.0)\n",
      "Requirement already satisfied: tensorflow-estimator<2.16,>=2.15.0 in /Users/fotiem.constant/.pyenv/versions/3.10.6/lib/python3.10/site-packages (from tensorflow) (2.15.0)\n",
      "Requirement already satisfied: tensorflow-io-gcs-filesystem>=0.23.1 in /Users/fotiem.constant/.pyenv/versions/3.10.6/lib/python3.10/site-packages (from tensorflow) (0.34.0)\n",
      "Requirement already satisfied: absl-py>=1.0.0 in /Users/fotiem.constant/.pyenv/versions/3.10.6/lib/python3.10/site-packages (from tensorflow) (1.4.0)\n",
      "Requirement already satisfied: libclang>=13.0.0 in /Users/fotiem.constant/.pyenv/versions/3.10.6/lib/python3.10/site-packages (from tensorflow) (16.0.6)\n",
      "Requirement already satisfied: numpy<2.0.0,>=1.23.5 in /Users/fotiem.constant/.pyenv/versions/3.10.6/lib/python3.10/site-packages (from tensorflow) (1.26.0)\n",
      "Requirement already satisfied: wheel<1.0,>=0.23.0 in /Users/fotiem.constant/.pyenv/versions/3.10.6/lib/python3.10/site-packages (from astunparse>=1.6.0->tensorflow) (0.41.3)\n",
      "Requirement already satisfied: google-auth<3,>=1.6.3 in /Users/fotiem.constant/.pyenv/versions/3.10.6/lib/python3.10/site-packages (from tensorboard<2.16,>=2.15->tensorflow) (2.23.4)\n",
      "Requirement already satisfied: tensorboard-data-server<0.8.0,>=0.7.0 in /Users/fotiem.constant/.pyenv/versions/3.10.6/lib/python3.10/site-packages (from tensorboard<2.16,>=2.15->tensorflow) (0.7.2)\n",
      "Requirement already satisfied: markdown>=2.6.8 in /Users/fotiem.constant/.pyenv/versions/3.10.6/lib/python3.10/site-packages (from tensorboard<2.16,>=2.15->tensorflow) (3.5.1)\n",
      "Requirement already satisfied: requests<3,>=2.21.0 in /Users/fotiem.constant/.pyenv/versions/3.10.6/lib/python3.10/site-packages (from tensorboard<2.16,>=2.15->tensorflow) (2.31.0)\n",
      "Requirement already satisfied: werkzeug>=1.0.1 in /Users/fotiem.constant/.pyenv/versions/3.10.6/lib/python3.10/site-packages (from tensorboard<2.16,>=2.15->tensorflow) (3.0.1)\n",
      "Requirement already satisfied: google-auth-oauthlib<2,>=0.5 in /Users/fotiem.constant/.pyenv/versions/3.10.6/lib/python3.10/site-packages (from tensorboard<2.16,>=2.15->tensorflow) (1.0.0)\n",
      "Requirement already satisfied: pyasn1-modules>=0.2.1 in /Users/fotiem.constant/.pyenv/versions/3.10.6/lib/python3.10/site-packages (from google-auth<3,>=1.6.3->tensorboard<2.16,>=2.15->tensorflow) (0.3.0)\n",
      "Requirement already satisfied: cachetools<6.0,>=2.0.0 in /Users/fotiem.constant/.pyenv/versions/3.10.6/lib/python3.10/site-packages (from google-auth<3,>=1.6.3->tensorboard<2.16,>=2.15->tensorflow) (5.3.2)\n",
      "Requirement already satisfied: rsa<5,>=3.1.4 in /Users/fotiem.constant/.pyenv/versions/3.10.6/lib/python3.10/site-packages (from google-auth<3,>=1.6.3->tensorboard<2.16,>=2.15->tensorflow) (4.9)\n",
      "Requirement already satisfied: requests-oauthlib>=0.7.0 in /Users/fotiem.constant/.pyenv/versions/3.10.6/lib/python3.10/site-packages (from google-auth-oauthlib<2,>=0.5->tensorboard<2.16,>=2.15->tensorflow) (1.3.1)\n",
      "Requirement already satisfied: urllib3<3,>=1.21.1 in /Users/fotiem.constant/.pyenv/versions/3.10.6/lib/python3.10/site-packages (from requests<3,>=2.21.0->tensorboard<2.16,>=2.15->tensorflow) (2.0.7)\n",
      "Requirement already satisfied: certifi>=2017.4.17 in /Users/fotiem.constant/.pyenv/versions/3.10.6/lib/python3.10/site-packages (from requests<3,>=2.21.0->tensorboard<2.16,>=2.15->tensorflow) (2023.7.22)\n",
      "Requirement already satisfied: charset-normalizer<4,>=2 in /Users/fotiem.constant/.pyenv/versions/3.10.6/lib/python3.10/site-packages (from requests<3,>=2.21.0->tensorboard<2.16,>=2.15->tensorflow) (3.3.2)\n",
      "Requirement already satisfied: idna<4,>=2.5 in /Users/fotiem.constant/.pyenv/versions/3.10.6/lib/python3.10/site-packages (from requests<3,>=2.21.0->tensorboard<2.16,>=2.15->tensorflow) (3.4)\n",
      "Requirement already satisfied: MarkupSafe>=2.1.1 in /Users/fotiem.constant/.pyenv/versions/3.10.6/lib/python3.10/site-packages (from werkzeug>=1.0.1->tensorboard<2.16,>=2.15->tensorflow) (2.1.3)\n",
      "Requirement already satisfied: pyasn1<0.6.0,>=0.4.6 in /Users/fotiem.constant/.pyenv/versions/3.10.6/lib/python3.10/site-packages (from pyasn1-modules>=0.2.1->google-auth<3,>=1.6.3->tensorboard<2.16,>=2.15->tensorflow) (0.5.0)\n",
      "Requirement already satisfied: oauthlib>=3.0.0 in /Users/fotiem.constant/.pyenv/versions/3.10.6/lib/python3.10/site-packages (from requests-oauthlib>=0.7.0->google-auth-oauthlib<2,>=0.5->tensorboard<2.16,>=2.15->tensorflow) (3.2.2)\n",
      "\n",
      "\u001b[1m[\u001b[0m\u001b[34;49mnotice\u001b[0m\u001b[1;39;49m]\u001b[0m\u001b[39;49m A new release of pip available: \u001b[0m\u001b[31;49m22.2.1\u001b[0m\u001b[39;49m -> \u001b[0m\u001b[32;49m23.3.1\u001b[0m\n",
      "\u001b[1m[\u001b[0m\u001b[34;49mnotice\u001b[0m\u001b[1;39;49m]\u001b[0m\u001b[39;49m To update, run: \u001b[0m\u001b[32;49mpip install --upgrade pip\u001b[0m\n"
     ]
    }
   ],
   "source": [
    "!pip3 install nltk\n",
    "!pip3 install --upgrade tensorflow\n"
   ]
  },
  {
   "cell_type": "code",
   "execution_count": 49,
   "metadata": {},
   "outputs": [],
   "source": [
    "import tensorflow as tf\n",
    "#import tensorflow_hub as hub\n",
    "import pandas as pd\n",
    "from sklearn.model_selection import train_test_split\n",
    "import numpy as np\n",
    "import re\n",
    "import unicodedata\n",
    "from nltk.corpus import stopwords\n",
    "from tensorflow import keras\n",
    "from tensorflow.keras.layers import Dense,Dropout, Input\n",
    "#from tqdm import tqdm\n",
    "import pickle\n",
    "from sklearn.metrics import confusion_matrix,f1_score,classification_report\n",
    "import matplotlib.pyplot as plt\n",
    "from sklearn.utils import shuffle\n",
    "from tensorflow.keras import regularizers"
   ]
  },
  {
   "cell_type": "code",
   "execution_count": 50,
   "metadata": {},
   "outputs": [
    {
     "name": "stderr",
     "output_type": "stream",
     "text": [
      "[nltk_data] Downloading package stopwords to\n",
      "[nltk_data]     /Users/fotiem.constant/nltk_data...\n",
      "[nltk_data]   Package stopwords is already up-to-date!\n"
     ]
    },
    {
     "data": {
      "text/plain": [
       "True"
      ]
     },
     "execution_count": 50,
     "metadata": {},
     "output_type": "execute_result"
    }
   ],
   "source": [
    "import nltk\n",
    "nltk.download('stopwords')"
   ]
  },
  {
   "cell_type": "code",
   "execution_count": 51,
   "metadata": {},
   "outputs": [],
   "source": [
    "from transformers import BertTokenizer, TFBertModel, BertConfig,TFDistilBertModel,DistilBertTokenizer,DistilBertConfig"
   ]
  },
  {
   "cell_type": "markdown",
   "metadata": {},
   "source": [
    "### 2.  Preprocessing and cleaning functions"
   ]
  },
  {
   "cell_type": "code",
   "execution_count": 52,
   "metadata": {},
   "outputs": [],
   "source": [
    "def unicode_to_ascii(s):\n",
    "    return ''.join(c for c in unicodedata.normalize('NFD', s) if unicodedata.category(c) != 'Mn')\n",
    "\n",
    "def clean_stopwords_shortwords(w):\n",
    "    stopwords_list=stopwords.words('english')\n",
    "    words = w.split() \n",
    "    clean_words = [word for word in words if (word not in stopwords_list) and len(word) > 2]\n",
    "    return \" \".join(clean_words) \n",
    "\n",
    "def preprocess_sentence(w):\n",
    "    w = unicode_to_ascii(w.lower().strip())\n",
    "    w = re.sub(r\"([?.!,¿])\", r\" \", w)\n",
    "    w = re.sub(r'[\" \"]+', \" \", w)\n",
    "    w = re.sub(r\"[^a-zA-Z?.!,¿]+\", \" \", w)\n",
    "    w=clean_stopwords_shortwords(w)\n",
    "    w=re.sub(r'@\\w+', '',w)\n",
    "    return w"
   ]
  },
  {
   "cell_type": "markdown",
   "metadata": {},
   "source": [
    "### 3. Load and Inspect our dataset\n",
    "We will first load and and preview our dataset. So we can check for any missing values."
   ]
  },
  {
   "cell_type": "code",
   "execution_count": 53,
   "metadata": {},
   "outputs": [
    {
     "data": {
      "text/html": [
       "<div>\n",
       "<style scoped>\n",
       "    .dataframe tbody tr th:only-of-type {\n",
       "        vertical-align: middle;\n",
       "    }\n",
       "\n",
       "    .dataframe tbody tr th {\n",
       "        vertical-align: top;\n",
       "    }\n",
       "\n",
       "    .dataframe thead th {\n",
       "        text-align: right;\n",
       "    }\n",
       "</style>\n",
       "<table border=\"1\" class=\"dataframe\">\n",
       "  <thead>\n",
       "    <tr style=\"text-align: right;\">\n",
       "      <th></th>\n",
       "      <th>title</th>\n",
       "      <th>body</th>\n",
       "      <th>ticket_type</th>\n",
       "      <th>category</th>\n",
       "      <th>sub_category1</th>\n",
       "      <th>sub_category2</th>\n",
       "      <th>business_service</th>\n",
       "      <th>urgency</th>\n",
       "      <th>impact</th>\n",
       "    </tr>\n",
       "  </thead>\n",
       "  <tbody>\n",
       "    <tr>\n",
       "      <th>0</th>\n",
       "      <td>NaN</td>\n",
       "      <td>hi since recruiter lead permission approve req...</td>\n",
       "      <td>1</td>\n",
       "      <td>4</td>\n",
       "      <td>2</td>\n",
       "      <td>21</td>\n",
       "      <td>71</td>\n",
       "      <td>3</td>\n",
       "      <td>4</td>\n",
       "    </tr>\n",
       "    <tr>\n",
       "      <th>1</th>\n",
       "      <td>connection with icon</td>\n",
       "      <td>icon dear please setup icon per icon engineers...</td>\n",
       "      <td>1</td>\n",
       "      <td>6</td>\n",
       "      <td>22</td>\n",
       "      <td>7</td>\n",
       "      <td>26</td>\n",
       "      <td>3</td>\n",
       "      <td>4</td>\n",
       "    </tr>\n",
       "    <tr>\n",
       "      <th>2</th>\n",
       "      <td>work experience user</td>\n",
       "      <td>work experience user hi work experience studen...</td>\n",
       "      <td>1</td>\n",
       "      <td>5</td>\n",
       "      <td>13</td>\n",
       "      <td>7</td>\n",
       "      <td>32</td>\n",
       "      <td>3</td>\n",
       "      <td>4</td>\n",
       "    </tr>\n",
       "    <tr>\n",
       "      <th>3</th>\n",
       "      <td>requesting for meeting</td>\n",
       "      <td>requesting meeting hi please help follow equip...</td>\n",
       "      <td>1</td>\n",
       "      <td>5</td>\n",
       "      <td>13</td>\n",
       "      <td>7</td>\n",
       "      <td>32</td>\n",
       "      <td>3</td>\n",
       "      <td>4</td>\n",
       "    </tr>\n",
       "    <tr>\n",
       "      <th>4</th>\n",
       "      <td>reset passwords for external accounts</td>\n",
       "      <td>re expire days hi ask help update passwords co...</td>\n",
       "      <td>1</td>\n",
       "      <td>4</td>\n",
       "      <td>2</td>\n",
       "      <td>76</td>\n",
       "      <td>4</td>\n",
       "      <td>3</td>\n",
       "      <td>4</td>\n",
       "    </tr>\n",
       "  </tbody>\n",
       "</table>\n",
       "</div>"
      ],
      "text/plain": [
       "                                   title  \\\n",
       "0                                    NaN   \n",
       "1                   connection with icon   \n",
       "2                   work experience user   \n",
       "3                 requesting for meeting   \n",
       "4  reset passwords for external accounts   \n",
       "\n",
       "                                                body  ticket_type  category  \\\n",
       "0  hi since recruiter lead permission approve req...            1         4   \n",
       "1  icon dear please setup icon per icon engineers...            1         6   \n",
       "2  work experience user hi work experience studen...            1         5   \n",
       "3  requesting meeting hi please help follow equip...            1         5   \n",
       "4  re expire days hi ask help update passwords co...            1         4   \n",
       "\n",
       "   sub_category1  sub_category2  business_service  urgency  impact  \n",
       "0              2             21                71        3       4  \n",
       "1             22              7                26        3       4  \n",
       "2             13              7                32        3       4  \n",
       "3             13              7                32        3       4  \n",
       "4              2             76                 4        3       4  "
      ]
     },
     "execution_count": 53,
     "metadata": {},
     "output_type": "execute_result"
    }
   ],
   "source": [
    "# Load and inspect the new dataset\n",
    "data_file = './data/all_tickets.csv'\n",
    "\n",
    "# Read the data from the CSV file into a pandas DataFrame\n",
    "data=pd.read_csv(data_file,encoding='ISO-8859-1')\n",
    "\n",
    "# Display the first few rows of the DataFrame\n",
    "data.head()"
   ]
  },
  {
   "cell_type": "markdown",
   "metadata": {},
   "source": [
    ">  Removing Unnamed Columns, dropping NaN data and resetting the index after dropping some rows/columns containing NaN dataset and finally shuffling the dataset"
   ]
  },
  {
   "cell_type": "code",
   "execution_count": 54,
   "metadata": {},
   "outputs": [
    {
     "name": "stdout",
     "output_type": "stream",
     "text": [
      "File has 48549 rows and 9 columns\n",
      "File has 47837 rows and 9 columns\n"
     ]
    },
    {
     "data": {
      "text/html": [
       "<div>\n",
       "<style scoped>\n",
       "    .dataframe tbody tr th:only-of-type {\n",
       "        vertical-align: middle;\n",
       "    }\n",
       "\n",
       "    .dataframe tbody tr th {\n",
       "        vertical-align: top;\n",
       "    }\n",
       "\n",
       "    .dataframe thead th {\n",
       "        text-align: right;\n",
       "    }\n",
       "</style>\n",
       "<table border=\"1\" class=\"dataframe\">\n",
       "  <thead>\n",
       "    <tr style=\"text-align: right;\">\n",
       "      <th></th>\n",
       "      <th>title</th>\n",
       "      <th>body</th>\n",
       "      <th>ticket_type</th>\n",
       "      <th>category</th>\n",
       "      <th>sub_category1</th>\n",
       "      <th>sub_category2</th>\n",
       "      <th>business_service</th>\n",
       "      <th>urgency</th>\n",
       "      <th>impact</th>\n",
       "    </tr>\n",
       "  </thead>\n",
       "  <tbody>\n",
       "    <tr>\n",
       "      <th>16842</th>\n",
       "      <td>po</td>\n",
       "      <td>tuesday hi please log installation install rec...</td>\n",
       "      <td>1</td>\n",
       "      <td>5</td>\n",
       "      <td>13</td>\n",
       "      <td>7</td>\n",
       "      <td>32</td>\n",
       "      <td>3</td>\n",
       "      <td>4</td>\n",
       "    </tr>\n",
       "    <tr>\n",
       "      <th>44125</th>\n",
       "      <td>survey gizmo performance issue</td>\n",
       "      <td>sent monday february status investigating app ...</td>\n",
       "      <td>0</td>\n",
       "      <td>4</td>\n",
       "      <td>21</td>\n",
       "      <td>77</td>\n",
       "      <td>91</td>\n",
       "      <td>1</td>\n",
       "      <td>2</td>\n",
       "    </tr>\n",
       "    <tr>\n",
       "      <th>18405</th>\n",
       "      <td>create customer users groups for</td>\n",
       "      <td>hello please create customers users locations</td>\n",
       "      <td>1</td>\n",
       "      <td>4</td>\n",
       "      <td>3</td>\n",
       "      <td>7</td>\n",
       "      <td>4</td>\n",
       "      <td>3</td>\n",
       "      <td>4</td>\n",
       "    </tr>\n",
       "    <tr>\n",
       "      <th>4727</th>\n",
       "      <td>request for stand for a monitor</td>\n",
       "      <td>stand monitor hello please provide stand monit...</td>\n",
       "      <td>1</td>\n",
       "      <td>5</td>\n",
       "      <td>13</td>\n",
       "      <td>7</td>\n",
       "      <td>32</td>\n",
       "      <td>3</td>\n",
       "      <td>4</td>\n",
       "    </tr>\n",
       "    <tr>\n",
       "      <th>1825</th>\n",
       "      <td>new starter</td>\n",
       "      <td>re starter form attached thursday december pm ...</td>\n",
       "      <td>1</td>\n",
       "      <td>4</td>\n",
       "      <td>2</td>\n",
       "      <td>94</td>\n",
       "      <td>40</td>\n",
       "      <td>3</td>\n",
       "      <td>4</td>\n",
       "    </tr>\n",
       "  </tbody>\n",
       "</table>\n",
       "</div>"
      ],
      "text/plain": [
       "                                  title  \\\n",
       "16842                                po   \n",
       "44125    survey gizmo performance issue   \n",
       "18405  create customer users groups for   \n",
       "4727    request for stand for a monitor   \n",
       "1825                        new starter   \n",
       "\n",
       "                                                    body  ticket_type  \\\n",
       "16842  tuesday hi please log installation install rec...            1   \n",
       "44125  sent monday february status investigating app ...            0   \n",
       "18405      hello please create customers users locations            1   \n",
       "4727   stand monitor hello please provide stand monit...            1   \n",
       "1825   re starter form attached thursday december pm ...            1   \n",
       "\n",
       "       category  sub_category1  sub_category2  business_service  urgency  \\\n",
       "16842         5             13              7                32        3   \n",
       "44125         4             21             77                91        1   \n",
       "18405         4              3              7                 4        3   \n",
       "4727          5             13              7                32        3   \n",
       "1825          4              2             94                40        3   \n",
       "\n",
       "       impact  \n",
       "16842       4  \n",
       "44125       2  \n",
       "18405       4  \n",
       "4727        4  \n",
       "1825        4  "
      ]
     },
     "execution_count": 54,
     "metadata": {},
     "output_type": "execute_result"
    }
   ],
   "source": [
    "data = data.loc[:, ~data.columns.str.contains('Unnamed: 2', case=False)] \n",
    "data = data.loc[:, ~data.columns.str.contains('Unnamed: 3', case=False)] \n",
    "data = data.loc[:, ~data.columns.str.contains('Unnamed: 4', case=False)] \n",
    "print('File has {} rows and {} columns'.format(data.shape[0],data.shape[1]))\n",
    "data=data.dropna()\n",
    "data=data.reset_index(drop=True)\n",
    "print('File has {} rows and {} columns'.format(data.shape[0],data.shape[1]))\n",
    "data = shuffle(data)\n",
    "\n",
    "\n",
    "\n",
    "data.head()"
   ]
  },
  {
   "cell_type": "markdown",
   "metadata": {},
   "source": [
    "###  4. Loading DistilBERT Tokenizer and the DistilBERT model"
   ]
  },
  {
   "cell_type": "code",
   "execution_count": 55,
   "metadata": {},
   "outputs": [],
   "source": [
    "dbert_tokenizer = DistilBertTokenizer.from_pretrained('distilbert-base-uncased')"
   ]
  },
  {
   "cell_type": "code",
   "execution_count": 56,
   "metadata": {},
   "outputs": [
    {
     "name": "stderr",
     "output_type": "stream",
     "text": [
      "Some layers from the model checkpoint at distilbert-base-uncased were not used when initializing TFDistilBertModel: ['activation_13', 'vocab_layer_norm', 'vocab_transform', 'vocab_projector']\n",
      "- This IS expected if you are initializing TFDistilBertModel from the checkpoint of a model trained on another task or with another architecture (e.g. initializing a BertForSequenceClassification model from a BertForPreTraining model).\n",
      "- This IS NOT expected if you are initializing TFDistilBertModel from the checkpoint of a model that you expect to be exactly identical (initializing a BertForSequenceClassification model from a BertForSequenceClassification model).\n",
      "All the layers of TFDistilBertModel were initialized from the model checkpoint at distilbert-base-uncased.\n",
      "If your task is similar to the task the model of the checkpoint was trained on, you can already use TFDistilBertModel for predictions without further training.\n"
     ]
    }
   ],
   "source": [
    "dbert_model = TFDistilBertModel.from_pretrained('distilbert-base-uncased')"
   ]
  },
  {
   "cell_type": "markdown",
   "metadata": {},
   "source": [
    "###  5. Preparing input for the model"
   ]
  },
  {
   "cell_type": "code",
   "execution_count": 57,
   "metadata": {},
   "outputs": [
    {
     "data": {
      "text/plain": [
       "(47837, 47837)"
      ]
     },
     "execution_count": 57,
     "metadata": {},
     "output_type": "execute_result"
    }
   ],
   "source": [
    "# Set the maximum length of the input sentences\n",
    "max_len = 32\n",
    "\n",
    "# Get the sentences and labels from the data\n",
    "sentences = data['body']\n",
    "labels = data['category']\n",
    "\n",
    "# Print the length of the sentences and labels\n",
    "len(sentences), len(labels)\n"
   ]
  },
  {
   "cell_type": "markdown",
   "metadata": {},
   "source": [
    "####  Let's take a sentence from the dataset and understand the input and output of the DistilBERT"
   ]
  },
  {
   "cell_type": "code",
   "execution_count": 58,
   "metadata": {},
   "outputs": [
    {
     "data": {
      "text/plain": [
       "'icon dear please setup icon per icon engineers please let other details needed thanks lead'"
      ]
     },
     "execution_count": 58,
     "metadata": {},
     "output_type": "execute_result"
    }
   ],
   "source": [
    "sentences[0]"
   ]
  },
  {
   "cell_type": "code",
   "execution_count": 59,
   "metadata": {},
   "outputs": [
    {
     "data": {
      "text/plain": [
       "['icon',\n",
       " 'dear',\n",
       " 'please',\n",
       " 'setup',\n",
       " 'icon',\n",
       " 'per',\n",
       " 'icon',\n",
       " 'engineers',\n",
       " 'please',\n",
       " 'let',\n",
       " 'other',\n",
       " 'details',\n",
       " 'needed',\n",
       " 'thanks',\n",
       " 'lead']"
      ]
     },
     "execution_count": 59,
     "metadata": {},
     "output_type": "execute_result"
    }
   ],
   "source": [
    "dbert_tokenizer.tokenize(sentences[0])"
   ]
  },
  {
   "cell_type": "markdown",
   "metadata": {},
   "source": [
    "> Input ids and the attention masks from the tokenizer"
   ]
  },
  {
   "cell_type": "code",
   "execution_count": 60,
   "metadata": {},
   "outputs": [
    {
     "name": "stderr",
     "output_type": "stream",
     "text": [
      "/Users/fotiem.constant/.pyenv/versions/3.10.6/lib/python3.10/site-packages/transformers/tokenization_utils_base.py:2285: FutureWarning: The `pad_to_max_length` argument is deprecated and will be removed in a future version, use `padding=True` or `padding='longest'` to pad to the longest sequence in the batch, or use `padding='max_length'` to pad to a max length. In this case, you can give a specific length with `max_length` (e.g. `max_length=45`) or leave max_length to None to pad to the maximal input size of the model (e.g. 512 for Bert).\n",
      "  warnings.warn(\n"
     ]
    },
    {
     "data": {
      "text/plain": [
       "{'input_ids': [101, 12696, 6203, 3531, 16437, 12696, 2566, 12696, 6145, 3531, 2292, 2060, 4751, 2734, 4283, 2599, 102, 0, 0, 0], 'attention_mask': [1, 1, 1, 1, 1, 1, 1, 1, 1, 1, 1, 1, 1, 1, 1, 1, 1, 0, 0, 0]}"
      ]
     },
     "execution_count": 60,
     "metadata": {},
     "output_type": "execute_result"
    }
   ],
   "source": [
    "dbert_inp=dbert_tokenizer.encode_plus(sentences[0],add_special_tokens = True,max_length =20,pad_to_max_length = True,truncation=True)\n",
    "dbert_inp"
   ]
  },
  {
   "cell_type": "code",
   "execution_count": 61,
   "metadata": {},
   "outputs": [
    {
     "data": {
      "text/plain": [
       "[101,\n",
       " 12696,\n",
       " 6203,\n",
       " 3531,\n",
       " 16437,\n",
       " 12696,\n",
       " 2566,\n",
       " 12696,\n",
       " 6145,\n",
       " 3531,\n",
       " 2292,\n",
       " 2060,\n",
       " 4751,\n",
       " 2734,\n",
       " 4283,\n",
       " 2599,\n",
       " 102,\n",
       " 0,\n",
       " 0,\n",
       " 0]"
      ]
     },
     "execution_count": 61,
     "metadata": {},
     "output_type": "execute_result"
    }
   ],
   "source": [
    "dbert_inp['input_ids']"
   ]
  },
  {
   "cell_type": "markdown",
   "metadata": {},
   "source": [
    ">  DistilBERT model output: Give input_ids and the attention_mask obtained from the tokenizer. The output will be a tuple of the size (1,max_len,768)"
   ]
  },
  {
   "cell_type": "code",
   "execution_count": 62,
   "metadata": {},
   "outputs": [
    {
     "data": {
      "text/plain": [
       "(transformers.modeling_tf_outputs.TFBaseModelOutput,\n",
       " TFBaseModelOutput(last_hidden_state=<tf.Tensor: shape=(1, 20, 768), dtype=float32, numpy=\n",
       " array([[[-0.14008602, -0.1231253 ,  0.07263236, ..., -0.3267806 ,\n",
       "           0.04675016,  0.43017605],\n",
       "         [-0.36188334,  0.2787817 ,  0.5043748 , ..., -0.03066764,\n",
       "          -0.10666229,  0.11820538],\n",
       "         [ 0.2077359 ,  0.47382352,  0.70303   , ..., -0.03583608,\n",
       "          -0.3576398 , -0.10728897],\n",
       "         ...,\n",
       "         [-0.00958552,  0.10920835,  0.25056088, ..., -0.00907475,\n",
       "          -0.3153267 ,  0.17255719],\n",
       "         [-0.00315598,  0.11595375,  0.25825262, ..., -0.01347051,\n",
       "          -0.32174903,  0.15192199],\n",
       "         [-0.02049228,  0.11264408,  0.26872396, ..., -0.05816982,\n",
       "          -0.28254673,  0.11775325]]], dtype=float32)>, hidden_states=None, attentions=None))"
      ]
     },
     "execution_count": 62,
     "metadata": {},
     "output_type": "execute_result"
    }
   ],
   "source": [
    "id_inp=np.asarray(dbert_inp['input_ids'])\n",
    "mask_inp=np.asarray(dbert_inp['attention_mask'])\n",
    "out=dbert_model([id_inp.reshape(1,-1),mask_inp.reshape(1,-1)])\n",
    "type(out),out"
   ]
  },
  {
   "cell_type": "markdown",
   "metadata": {},
   "source": [
    "> Obtain the embeddings of a sentence from the output"
   ]
  },
  {
   "cell_type": "code",
   "execution_count": 63,
   "metadata": {},
   "outputs": [
    {
     "data": {
      "text/plain": [
       "<tf.Tensor: shape=(1, 768), dtype=float32, numpy=\n",
       "array([[-1.40086025e-01, -1.23125300e-01,  7.26323575e-02,\n",
       "        -8.36244375e-02, -3.50452848e-02, -2.44505659e-01,\n",
       "         3.50453258e-01,  4.78630960e-01, -3.12227197e-02,\n",
       "        -2.45661944e-01, -1.27533868e-01,  4.65072207e-02,\n",
       "         2.69581527e-02,  1.26936018e-01, -1.20387040e-01,\n",
       "         1.19356841e-01,  5.23970798e-02,  3.97658587e-01,\n",
       "         3.53917554e-02,  5.12354970e-02,  3.25017571e-02,\n",
       "        -4.14746106e-01, -8.00804049e-02, -2.90628940e-01,\n",
       "        -9.52901840e-02, -1.12366155e-01, -1.20869190e-01,\n",
       "        -1.73668742e-01, -2.39612758e-01,  7.61435414e-03,\n",
       "        -3.68524119e-02,  1.19285576e-01, -7.38689899e-02,\n",
       "        -3.43415797e-01, -5.97161576e-02, -5.51657304e-02,\n",
       "         1.64421290e-01,  2.88035303e-01,  1.42615229e-01,\n",
       "         7.63547570e-02, -1.18344821e-01, -2.24739477e-01,\n",
       "         4.11063612e-01, -1.91477984e-02,  3.57589304e-01,\n",
       "         9.15082358e-03, -2.36848235e+00, -1.05126031e-01,\n",
       "        -1.63060278e-01, -2.03882873e-01,  8.24125558e-02,\n",
       "        -3.65244672e-02, -1.59994811e-02,  1.75644323e-01,\n",
       "         2.81288117e-01,  1.62565663e-01, -1.35702252e-01,\n",
       "         5.97180575e-02, -2.14462399e-01,  2.08443984e-01,\n",
       "         1.44611731e-01,  1.28121808e-01, -2.74127722e-01,\n",
       "        -8.20279121e-02,  2.14733198e-01, -7.06432015e-02,\n",
       "        -1.35494784e-01,  5.26482284e-01, -4.83000755e-01,\n",
       "         6.77896619e-01, -1.01343051e-01, -1.76274538e-01,\n",
       "         2.28119418e-01, -2.60465443e-01,  4.79782596e-02,\n",
       "         5.87457642e-02, -3.30590643e-02,  4.54824299e-01,\n",
       "         2.51060352e-02, -3.46557409e-01,  4.17528823e-02,\n",
       "         2.27190316e-01,  2.27350563e-01,  1.25881344e-01,\n",
       "         2.22198933e-01, -1.26269478e-02,  8.76806304e-03,\n",
       "        -2.35180944e-01,  1.72945142e-01,  5.79659641e-01,\n",
       "        -1.08822756e-01, -4.54833478e-01, -2.04977617e-01,\n",
       "         1.22822411e-01,  4.76211667e-01, -2.59135187e-01,\n",
       "        -1.52670473e-01,  9.63677019e-02,  1.15332358e-01,\n",
       "         3.60671967e-01,  1.86772570e-01,  1.03487618e-01,\n",
       "        -6.50925338e-02, -4.18147027e-01,  1.94150522e-01,\n",
       "        -5.89559451e-02, -1.38054669e-01, -1.15161538e-01,\n",
       "         1.26783121e-02, -1.72984540e+00,  6.67526573e-02,\n",
       "         1.08912230e-01, -2.82382131e-01, -1.87519461e-01,\n",
       "        -3.40703815e-01,  3.88645798e-01,  1.10857278e-01,\n",
       "        -1.23847634e-01,  1.82332218e-01, -7.47085661e-02,\n",
       "        -3.80583405e-02,  6.25460982e-01, -6.08913340e-02,\n",
       "         9.70992893e-02, -6.85789809e-02,  5.16980171e-01,\n",
       "        -3.85434330e-02,  8.32822323e-02,  5.90717733e-01,\n",
       "         2.59558678e-01,  1.80741012e-01,  5.45257568e-01,\n",
       "        -5.27600981e-02, -1.51827186e-01, -1.44247934e-01,\n",
       "         2.96438694e-01,  4.44247603e-01,  8.56946111e-02,\n",
       "        -4.97344375e-01,  3.09608672e-02, -2.78360903e-01,\n",
       "        -6.52529001e-02, -2.03197193e+00,  3.41648489e-01,\n",
       "         5.56252420e-01,  3.06902379e-01, -1.66977122e-02,\n",
       "         1.21907115e-01, -1.72805801e-01,  3.99159491e-01,\n",
       "         1.10369444e-01, -5.88341951e-02, -2.45554730e-01,\n",
       "         1.51584893e-01, -1.71417952e-01,  5.91797888e-01,\n",
       "        -1.66064471e-01, -4.22085822e-01, -1.60971239e-01,\n",
       "        -8.04397278e-03,  3.21974277e-01,  2.47918084e-01,\n",
       "        -1.87086165e-01, -4.31877226e-02, -1.71623100e-03,\n",
       "         4.45091188e-01,  1.36931449e-01,  2.54240811e-01,\n",
       "         2.95349330e-01, -1.15064830e-01, -2.45881125e-01,\n",
       "         1.90925479e-01,  3.22107941e-01, -1.75458997e-01,\n",
       "         2.35162497e-01,  2.30670780e-01,  1.17430747e-01,\n",
       "         5.01403272e-01,  1.03321727e-02, -1.13480531e-01,\n",
       "        -8.13540816e-02,  4.15494859e-01, -5.12897857e-02,\n",
       "        -6.00416623e-02,  6.73612803e-02, -6.35621026e-02,\n",
       "         3.07162285e-01, -1.39557511e-01,  1.23463407e-01,\n",
       "         6.16859235e-02, -2.56571293e-01, -3.43751699e-01,\n",
       "         2.42382705e-01,  2.27356821e-01,  3.98684084e-01,\n",
       "         1.25448018e-01,  1.38858128e-02, -3.45855713e-01,\n",
       "         9.82034504e-02,  1.27095357e-01,  1.64222524e-01,\n",
       "         1.34430736e-01,  5.31746782e-02, -1.17600113e-02,\n",
       "        -4.33642954e-01,  3.04870057e+00,  3.05497944e-01,\n",
       "        -2.20102340e-01, -1.95756108e-02,  2.91595280e-01,\n",
       "        -2.74230301e-01,  3.14853668e-01,  3.94122228e-02,\n",
       "         9.26881377e-03,  3.90630573e-01,  6.24523312e-02,\n",
       "         2.64129341e-01, -3.33067477e-01,  1.19346268e-02,\n",
       "         1.80771444e-02, -5.23043796e-03,  1.97098911e-01,\n",
       "         1.02739990e-01,  6.00303888e-01, -2.46377304e-01,\n",
       "         3.33073497e-01, -1.30114615e-01,  1.73457295e-01,\n",
       "         2.50275344e-01, -1.07242608e+00,  1.35422781e-01,\n",
       "        -2.06875965e-01, -1.74732003e-02,  2.41157800e-01,\n",
       "        -3.68004680e-01,  1.70692615e-02,  1.56730413e-01,\n",
       "        -2.41518002e-02,  6.25917315e-03,  7.99417272e-02,\n",
       "        -7.17021450e-02,  1.35117739e-01,  2.23156391e-03,\n",
       "         9.03290138e-02, -2.46443048e-01,  5.00929393e-02,\n",
       "        -3.82700861e-02, -3.33673328e-01,  1.33533403e-01,\n",
       "        -1.34359570e-02,  3.04891437e-01,  2.06044763e-01,\n",
       "         8.30347687e-02, -4.97018218e-01,  5.17710298e-02,\n",
       "         6.20261207e-02,  1.78701937e-01, -1.59098417e-01,\n",
       "        -7.54578412e-01,  1.42798260e-01, -3.64682376e-01,\n",
       "         3.18280905e-02, -5.83113804e-02,  1.89395145e-01,\n",
       "        -4.37988251e-01, -4.94492233e-01,  6.35718331e-02,\n",
       "         9.75142978e-03,  4.97280836e-01, -2.14992031e-01,\n",
       "        -4.72484052e-01, -6.89679906e-02, -5.58745563e-01,\n",
       "        -2.61562753e+00,  7.72932768e-02, -3.07053328e-01,\n",
       "         2.98645139e-01,  2.15524644e-01,  1.48785755e-01,\n",
       "        -2.40085781e-01,  2.13837638e-01,  4.35669452e-01,\n",
       "        -1.74250662e-01,  3.10797036e-01,  2.34443590e-01,\n",
       "        -1.97625645e-02, -1.87505595e-02, -4.80099231e-01,\n",
       "        -2.07689270e-01, -1.65219143e-01, -3.33689243e-01,\n",
       "        -1.65989086e-01, -4.25994754e-01,  2.88455993e-01,\n",
       "         4.54668105e-01, -1.49237305e-01,  2.16023624e-01,\n",
       "        -2.97561511e-02,  2.86716735e-03, -5.40171623e-01,\n",
       "        -4.58684891e-01, -8.54273885e-03,  1.81179374e-01,\n",
       "        -2.40974635e-01, -2.26926863e-01,  3.33629817e-01,\n",
       "        -4.47803110e-01, -3.52790862e-01, -3.48777199e+00,\n",
       "        -7.60334879e-02,  6.70634881e-02, -4.87986729e-02,\n",
       "         7.87125602e-02, -1.09600402e-01,  4.19600606e-01,\n",
       "        -2.05820035e-02,  1.88755274e-01,  9.78112817e-02,\n",
       "         1.29289716e-01,  1.10072307e-02,  2.05111951e-01,\n",
       "         1.59040481e-01, -1.19469836e-02,  6.39010429e-01,\n",
       "         5.06169498e-01,  1.03369422e-01, -4.43790033e-02,\n",
       "         2.62579560e-01, -2.59967923e-01, -2.62490232e-02,\n",
       "         2.00192705e-01, -1.71420306e-01, -1.22216232e-02,\n",
       "         3.48367661e-01, -4.51539963e-01,  1.11231416e-01,\n",
       "        -9.95307267e-02, -2.65651077e-01,  2.20860735e-01,\n",
       "        -1.19445130e-01, -3.41991425e-01, -9.93000120e-02,\n",
       "        -4.93211538e-01, -2.65224308e-01,  2.49947250e-01,\n",
       "         1.14875957e-01,  3.96517783e-01,  9.02130678e-02,\n",
       "        -1.10433117e-01,  4.17958468e-01,  1.46315545e-01,\n",
       "        -8.54828283e-02,  5.24713814e-01,  1.03440829e-01,\n",
       "         1.15479529e-01, -1.16607085e-01,  3.03224549e-02,\n",
       "         4.63892430e-01, -3.33899379e-01, -1.44274518e-01,\n",
       "         1.16890264e+00, -2.41085529e-01,  2.50319541e-01,\n",
       "        -1.32936954e-01,  5.61777055e-01,  3.05247605e-01,\n",
       "        -2.30113223e-01,  1.32435054e-01,  5.61389863e-01,\n",
       "        -2.87287295e-01,  1.15142711e-01, -3.52612853e-01,\n",
       "         1.04099646e-01, -4.38981652e-01,  4.46642190e-02,\n",
       "        -3.37388188e-01, -3.48280370e-01, -8.60882103e-02,\n",
       "        -3.02124053e-01,  4.91464823e-01,  4.38646041e-03,\n",
       "        -1.03992271e+00,  3.97489080e-03, -1.42539129e-01,\n",
       "        -1.86617061e-01,  3.21059465e-01, -1.99011922e-01,\n",
       "         1.74894661e-01, -3.40744793e-01, -6.12358972e-02,\n",
       "        -1.79421276e-01,  3.29315722e-01, -5.89319229e-01,\n",
       "         2.81808168e-01, -5.65521270e-02,  1.27838925e-02,\n",
       "        -5.88096201e-01,  1.45879537e-01, -1.22199982e-01,\n",
       "        -3.38833854e-02,  2.36704722e-02, -1.22585837e-02,\n",
       "         8.81331116e-02,  1.89293087e-01,  5.95245719e-01,\n",
       "        -8.97427440e-01, -8.21638703e-02, -1.49473682e-01,\n",
       "         1.27915874e-01, -8.58905166e-02,  5.90051562e-02,\n",
       "        -3.08423758e-01, -4.39217001e-01, -1.74046624e-02,\n",
       "        -4.45555568e-01,  1.02943137e-01,  1.11346982e-01,\n",
       "         1.85561284e-01,  1.02731712e-01, -1.73255786e-01,\n",
       "        -1.53496668e-01,  1.17476508e-01,  5.07094741e-01,\n",
       "        -1.05497442e-01,  2.06928194e-01,  5.29798448e-01,\n",
       "         3.37557614e-01, -9.24424902e-02,  1.32507831e-03,\n",
       "         7.65397251e-02,  4.15364169e-02,  9.82496589e-02,\n",
       "        -3.21717113e-02, -4.06299531e-02, -4.71829623e-02,\n",
       "        -3.05185728e-02, -2.45052174e-01,  1.48039758e-02,\n",
       "         4.33017798e-02,  7.75347427e-02, -6.42673373e-02,\n",
       "        -2.29850441e-01, -4.83805612e-02, -4.79330748e-01,\n",
       "         8.34488124e-03,  2.68348575e-01,  3.56628686e-01,\n",
       "        -8.41602981e-02,  4.28394228e-03,  1.33102238e-01,\n",
       "        -2.67864943e-01,  3.49207848e-01, -6.05541766e-02,\n",
       "         4.88910019e-01, -4.26172279e-02, -1.57319933e-01,\n",
       "        -1.59040969e-02,  3.61041188e-01, -2.63685793e-01,\n",
       "        -4.67125952e-01,  5.81997931e-02, -3.59049797e-01,\n",
       "         1.79283559e-01, -7.00362623e-02, -2.08533406e-01,\n",
       "        -1.64411977e-01, -8.33015516e-02, -2.59100288e-01,\n",
       "        -1.27061307e-01,  1.41380221e-01, -1.38082612e+00,\n",
       "         3.29876751e-01, -1.17216259e-05, -1.98139340e-01,\n",
       "        -1.02588743e-01, -2.38950297e-01, -1.06760427e-01,\n",
       "         2.76517153e-01, -1.47581398e-01,  3.56710792e-01,\n",
       "        -1.88954577e-01, -3.24995697e-01,  2.38264620e-01,\n",
       "         2.13381350e-01,  1.71915174e-01, -3.39321852e-01,\n",
       "         2.82420754e-01,  4.17149842e-01,  2.30980571e-02,\n",
       "        -1.51925772e-01,  4.30271477e-02,  5.13902903e-01,\n",
       "         1.24689676e-01, -2.39151135e-01, -7.76346028e-02,\n",
       "        -8.95179156e-03,  3.12466696e-02,  2.62290001e-01,\n",
       "        -3.46601248e-01,  3.33696038e-01,  1.39507065e-02,\n",
       "        -3.11929733e-01, -5.38068652e-01, -3.12276363e-01,\n",
       "         5.48103929e-01,  3.59111607e-01,  1.05586424e-01,\n",
       "        -2.68703759e-01,  2.26242915e-01,  4.76963013e-01,\n",
       "        -4.12228286e-01,  3.21530610e-01,  9.52374488e-02,\n",
       "         7.12072253e-02,  5.73067546e-01,  3.28516304e-01,\n",
       "        -1.53966844e-01,  2.41406560e-01,  2.33472884e-01,\n",
       "        -1.54065773e-01, -2.13521436e-01, -3.92580390e-01,\n",
       "        -2.41460875e-02, -3.85206223e-01,  1.25368834e-01,\n",
       "         6.84929714e-02, -1.55406073e-01,  1.30384654e-01,\n",
       "        -3.95142108e-01,  1.77856356e-01,  4.72401768e-01,\n",
       "        -9.14564431e-02,  4.59171981e-02, -1.08235747e-01,\n",
       "         7.49663636e-02, -4.81809229e-01, -1.41295612e-01,\n",
       "         8.35361630e-02, -1.35318935e-01,  7.64662325e-02,\n",
       "         4.51614946e-01,  1.31926119e-01, -1.82232708e-01,\n",
       "         1.67988747e-01, -5.22075117e-01,  3.77545506e-02,\n",
       "         2.92050950e-02, -1.65516555e-01, -9.30843353e-02,\n",
       "        -1.80188835e-01,  6.93490282e-02, -6.72142029e-01,\n",
       "        -6.34229660e-01,  5.97358122e-03, -4.83593762e-01,\n",
       "         5.42092174e-02, -3.10032457e-01,  7.23779798e-02,\n",
       "         2.19250187e-01,  1.65753216e-02, -3.11190546e-01,\n",
       "        -3.23987186e-01,  1.04331665e-01, -1.94019839e-01,\n",
       "         1.48233891e-01, -4.65280533e-01, -1.45629942e-01,\n",
       "         1.12007275e-01,  3.61811295e-02, -4.17619534e-02,\n",
       "         1.01420388e-01,  5.31680346e-01,  2.57930726e-01,\n",
       "         3.92577708e-01,  1.84784070e-01,  4.22860086e-02,\n",
       "         1.03401557e-01, -2.79025078e-01, -9.48674604e-02,\n",
       "         2.66635746e-01,  1.01520143e-01, -5.80754802e-02,\n",
       "        -1.74361095e-01,  5.23649640e-02,  3.16659138e-02,\n",
       "        -4.26205665e-01, -3.33500430e-02, -5.60205802e-02,\n",
       "         1.65629351e+00,  3.26022357e-01, -1.83249146e-01,\n",
       "         3.37153792e-01,  4.11841214e-01, -1.47447601e-01,\n",
       "        -6.17999583e-02,  1.40467852e-01,  2.55175270e-02,\n",
       "         4.15161520e-01, -3.03933203e-01,  5.45336545e-01,\n",
       "        -1.37622103e-01,  1.58685699e-01,  3.22292984e-01,\n",
       "         3.97589087e-01,  2.33878195e-03, -3.64154994e-01,\n",
       "        -3.84284377e-01,  7.99156949e-02, -2.21031174e-01,\n",
       "         1.93158090e-01,  5.32099664e-01,  2.01303482e-01,\n",
       "         1.67161673e-01,  3.07635665e-01, -1.15580656e-01,\n",
       "        -4.50283349e-01, -9.07303914e-02,  8.53353515e-02,\n",
       "        -3.31850164e-02,  3.56053114e-01,  2.40398422e-01,\n",
       "         4.93767232e-01, -1.42730474e-01, -5.67945004e-01,\n",
       "        -3.09993550e-02, -4.23426598e-01, -2.50218391e-01,\n",
       "        -7.82157779e-02, -9.48854834e-02, -3.39293361e-01,\n",
       "         4.61647958e-01,  4.79814559e-02, -3.50774899e-02,\n",
       "         3.62784088e-01,  1.47015974e-02, -4.25257027e-01,\n",
       "         3.83917332e-01,  1.44592717e-01,  1.96497917e-01,\n",
       "         1.94782734e-01, -1.95033103e-01, -2.68304050e-02,\n",
       "        -3.57700825e-01,  3.43379006e-02,  1.29688561e-01,\n",
       "         8.58833827e-03,  1.71160065e-02,  3.11633468e-01,\n",
       "        -1.02814615e-01,  2.42171869e-01,  4.64730501e-01,\n",
       "        -1.77914858e-01, -5.37861846e-02,  3.77965927e-01,\n",
       "        -4.81964141e-01,  4.34039980e-01,  3.98595273e-01,\n",
       "         2.41091132e-01,  1.11000314e-01,  2.95115024e-01,\n",
       "         6.24421053e-02,  1.90897644e-01,  6.34607077e-02,\n",
       "         2.42006332e-02,  3.86403859e-01,  2.54290134e-01,\n",
       "        -6.23256452e-02, -2.06509995e+00,  3.38574171e-01,\n",
       "         4.57913056e-02,  1.61024928e-01,  7.47269616e-02,\n",
       "         3.14217806e-02,  1.35156736e-01,  2.44092256e-01,\n",
       "         1.31969720e-01, -1.94558099e-01,  8.43154788e-02,\n",
       "         1.73574477e-01,  3.53956193e-01, -1.31001398e-01,\n",
       "        -2.51835436e-02, -1.22489788e-01, -7.69953877e-02,\n",
       "         2.39853397e-01,  9.02930647e-02, -1.82990387e-01,\n",
       "         9.46395472e-02,  1.07182384e-01,  1.19455457e-02,\n",
       "        -2.97320247e-01, -4.77853239e-01, -2.55701654e-02,\n",
       "        -1.13790989e-01, -4.11770165e-01,  1.82012886e-01,\n",
       "         2.01171279e-01, -3.00619304e-01,  6.40476048e-02,\n",
       "        -1.46811038e-01,  3.66831906e-02, -8.22785348e-02,\n",
       "        -1.51379541e-01, -1.79436564e-01, -1.24669358e-01,\n",
       "         1.50943816e-01,  2.63144493e-01, -1.12975642e-01,\n",
       "         3.69417936e-01, -1.59163758e-01,  2.53551483e-01,\n",
       "        -4.06415388e-02,  2.84794033e-01,  3.94808084e-01,\n",
       "        -2.32927606e-01,  4.17423368e-01, -3.17104101e-01,\n",
       "        -4.07699049e-02, -2.63235942e-02,  1.26878202e-01,\n",
       "        -1.09934084e-01,  2.74421666e-02, -1.37045145e-01,\n",
       "         2.97717005e-02,  2.60988891e-01,  6.25258684e-02,\n",
       "        -2.20949799e-01, -2.20569640e-01, -8.15772787e-02,\n",
       "        -6.12426847e-02,  3.00964773e-01,  1.64807171e-01,\n",
       "        -1.41524136e-01, -2.43021652e-01, -2.25832656e-01,\n",
       "         1.02178320e-01, -1.18867770e-01, -1.13943614e-01,\n",
       "        -2.52500862e-01, -2.11375803e-02,  1.52278990e-01,\n",
       "         1.87556267e-01,  2.68170983e-03,  5.14614046e-01,\n",
       "         2.38894299e-01,  1.06769532e-01,  2.02886045e-01,\n",
       "         2.07236744e-02, -4.11518633e-01,  6.02649674e-02,\n",
       "         1.30539387e-03,  4.47130948e-01, -6.17925692e+00,\n",
       "        -2.16640607e-01, -2.42869645e-01, -1.54353648e-01,\n",
       "        -4.12033945e-01, -3.79463673e-01,  3.62491161e-01,\n",
       "        -2.50773102e-01,  7.59309679e-02, -1.42667159e-01,\n",
       "         3.42504770e-01,  1.96918517e-01, -1.45915464e-01,\n",
       "        -3.26780587e-01,  4.67501581e-02,  4.30176049e-01]], dtype=float32)>"
      ]
     },
     "execution_count": 63,
     "metadata": {},
     "output_type": "execute_result"
    }
   ],
   "source": [
    "out[0][:,0,:]"
   ]
  },
  {
   "cell_type": "markdown",
   "metadata": {},
   "source": [
    "> Decode the original sentence from the tokenizer "
   ]
  },
  {
   "cell_type": "code",
   "execution_count": 64,
   "metadata": {},
   "outputs": [
    {
     "data": {
      "text/plain": [
       "'[CLS] icon dear please setup icon per icon engineers please let other details needed thanks lead [SEP] [PAD] [PAD] [PAD]'"
      ]
     },
     "execution_count": 64,
     "metadata": {},
     "output_type": "execute_result"
    }
   ],
   "source": [
    "dbert_tokenizer.decode(dbert_inp['input_ids'])"
   ]
  },
  {
   "cell_type": "code",
   "execution_count": 65,
   "metadata": {},
   "outputs": [
    {
     "name": "stdout",
     "output_type": "stream",
     "text": [
      "Available labels:  [ 5  4  6  7 11  8 12  9  3 10  1  0  2]\n"
     ]
    },
    {
     "data": {
      "text/html": [
       "<div>\n",
       "<style scoped>\n",
       "    .dataframe tbody tr th:only-of-type {\n",
       "        vertical-align: middle;\n",
       "    }\n",
       "\n",
       "    .dataframe tbody tr th {\n",
       "        vertical-align: top;\n",
       "    }\n",
       "\n",
       "    .dataframe thead th {\n",
       "        text-align: right;\n",
       "    }\n",
       "</style>\n",
       "<table border=\"1\" class=\"dataframe\">\n",
       "  <thead>\n",
       "    <tr style=\"text-align: right;\">\n",
       "      <th></th>\n",
       "      <th>title</th>\n",
       "      <th>body</th>\n",
       "      <th>ticket_type</th>\n",
       "      <th>category</th>\n",
       "      <th>sub_category1</th>\n",
       "      <th>sub_category2</th>\n",
       "      <th>business_service</th>\n",
       "      <th>urgency</th>\n",
       "      <th>impact</th>\n",
       "    </tr>\n",
       "  </thead>\n",
       "  <tbody>\n",
       "    <tr>\n",
       "      <th>16842</th>\n",
       "      <td>po</td>\n",
       "      <td>tuesday hi please log installation install rec...</td>\n",
       "      <td>1</td>\n",
       "      <td>5</td>\n",
       "      <td>13</td>\n",
       "      <td>7</td>\n",
       "      <td>32</td>\n",
       "      <td>3</td>\n",
       "      <td>4</td>\n",
       "    </tr>\n",
       "    <tr>\n",
       "      <th>44125</th>\n",
       "      <td>survey gizmo performance issue</td>\n",
       "      <td>sent monday february status investigating app ...</td>\n",
       "      <td>0</td>\n",
       "      <td>4</td>\n",
       "      <td>21</td>\n",
       "      <td>77</td>\n",
       "      <td>91</td>\n",
       "      <td>1</td>\n",
       "      <td>2</td>\n",
       "    </tr>\n",
       "    <tr>\n",
       "      <th>18405</th>\n",
       "      <td>create customer users groups for</td>\n",
       "      <td>hello please create customers users locations</td>\n",
       "      <td>1</td>\n",
       "      <td>4</td>\n",
       "      <td>3</td>\n",
       "      <td>7</td>\n",
       "      <td>4</td>\n",
       "      <td>3</td>\n",
       "      <td>4</td>\n",
       "    </tr>\n",
       "    <tr>\n",
       "      <th>4727</th>\n",
       "      <td>request for stand for a monitor</td>\n",
       "      <td>stand monitor hello please provide stand monit...</td>\n",
       "      <td>1</td>\n",
       "      <td>5</td>\n",
       "      <td>13</td>\n",
       "      <td>7</td>\n",
       "      <td>32</td>\n",
       "      <td>3</td>\n",
       "      <td>4</td>\n",
       "    </tr>\n",
       "    <tr>\n",
       "      <th>1825</th>\n",
       "      <td>new starter</td>\n",
       "      <td>re starter form attached thursday december pm ...</td>\n",
       "      <td>1</td>\n",
       "      <td>4</td>\n",
       "      <td>2</td>\n",
       "      <td>94</td>\n",
       "      <td>40</td>\n",
       "      <td>3</td>\n",
       "      <td>4</td>\n",
       "    </tr>\n",
       "  </tbody>\n",
       "</table>\n",
       "</div>"
      ],
      "text/plain": [
       "                                  title  \\\n",
       "16842                                po   \n",
       "44125    survey gizmo performance issue   \n",
       "18405  create customer users groups for   \n",
       "4727    request for stand for a monitor   \n",
       "1825                        new starter   \n",
       "\n",
       "                                                    body  ticket_type  \\\n",
       "16842  tuesday hi please log installation install rec...            1   \n",
       "44125  sent monday february status investigating app ...            0   \n",
       "18405      hello please create customers users locations            1   \n",
       "4727   stand monitor hello please provide stand monit...            1   \n",
       "1825   re starter form attached thursday december pm ...            1   \n",
       "\n",
       "       category  sub_category1  sub_category2  business_service  urgency  \\\n",
       "16842         5             13              7                32        3   \n",
       "44125         4             21             77                91        1   \n",
       "18405         4              3              7                 4        3   \n",
       "4727          5             13              7                32        3   \n",
       "1825          4              2             94                40        3   \n",
       "\n",
       "       impact  \n",
       "16842       4  \n",
       "44125       2  \n",
       "18405       4  \n",
       "4727        4  \n",
       "1825        4  "
      ]
     },
     "execution_count": 65,
     "metadata": {},
     "output_type": "execute_result"
    }
   ],
   "source": [
    "print('Available labels: ',data.category.unique())\n",
    "num_classes = len(data.category.unique())\n",
    "data.head()\n"
   ]
  },
  {
   "cell_type": "markdown",
   "metadata": {},
   "source": [
    "###  6. Create a basic NN model using DistilBERT embeddings to get the predictions"
   ]
  },
  {
   "cell_type": "code",
   "execution_count": 66,
   "metadata": {},
   "outputs": [],
   "source": [
    "def create_model():\n",
    "    inps = Input(shape = (max_len,), dtype='int64')\n",
    "    masks= Input(shape = (max_len,), dtype='int64')\n",
    "    dbert_layer = dbert_model(inps, attention_mask=masks)[0][:,0,:]\n",
    "    dense = Dense(512,activation='relu',kernel_regularizer=regularizers.l2(0.01))(dbert_layer)\n",
    "    dropout= Dropout(0.5)(dense)\n",
    "    pred = Dense(num_classes, activation='softmax',kernel_regularizer=regularizers.l2(0.01))(dropout)\n",
    "    model = tf.keras.Model(inputs=[inps,masks], outputs=pred)\n",
    "    print(model.summary())\n",
    "    return model   "
   ]
  },
  {
   "cell_type": "markdown",
   "metadata": {},
   "source": [
    "> Feel free to add more Dense and Dropout layers with variable units and the regularizers"
   ]
  },
  {
   "cell_type": "code",
   "execution_count": 67,
   "metadata": {},
   "outputs": [
    {
     "name": "stdout",
     "output_type": "stream",
     "text": [
      "Model: \"model\"\n",
      "__________________________________________________________________________________________________\n",
      " Layer (type)                Output Shape                 Param #   Connected to                  \n",
      "==================================================================================================\n",
      " input_3 (InputLayer)        [(None, 32)]                 0         []                            \n",
      "                                                                                                  \n",
      " input_4 (InputLayer)        [(None, 32)]                 0         []                            \n",
      "                                                                                                  \n",
      " tf_distil_bert_model_1 (TF  TFBaseModelOutput(last_hid   6636288   ['input_3[0][0]',             \n",
      " DistilBertModel)            den_state=(None, 32, 768),   0          'input_4[0][0]']             \n",
      "                              hidden_states=None, atten                                           \n",
      "                             tions=None)                                                          \n",
      "                                                                                                  \n",
      " tf.__operators__.getitem_1  (None, 768)                  0         ['tf_distil_bert_model_1[0][0]\n",
      "  (SlicingOpLambda)                                                 ']                            \n",
      "                                                                                                  \n",
      " dense_1 (Dense)             (None, 512)                  393728    ['tf.__operators__.getitem_1[0\n",
      "                                                                    ][0]']                        \n",
      "                                                                                                  \n",
      " dropout_39 (Dropout)        (None, 512)                  0         ['dense_1[0][0]']             \n",
      "                                                                                                  \n",
      " dense_2 (Dense)             (None, 13)                   6669      ['dropout_39[0][0]']          \n",
      "                                                                                                  \n",
      "==================================================================================================\n",
      "Total params: 66763277 (254.68 MB)\n",
      "Trainable params: 66763277 (254.68 MB)\n",
      "Non-trainable params: 0 (0.00 Byte)\n",
      "__________________________________________________________________________________________________\n",
      "None\n"
     ]
    }
   ],
   "source": [
    "model=create_model()"
   ]
  },
  {
   "cell_type": "markdown",
   "metadata": {},
   "source": [
    "> Prepare the model input"
   ]
  },
  {
   "cell_type": "code",
   "execution_count": 68,
   "metadata": {},
   "outputs": [
    {
     "name": "stderr",
     "output_type": "stream",
     "text": [
      "/Users/fotiem.constant/.pyenv/versions/3.10.6/lib/python3.10/site-packages/transformers/tokenization_utils_base.py:2285: FutureWarning: The `pad_to_max_length` argument is deprecated and will be removed in a future version, use `padding=True` or `padding='longest'` to pad to the longest sequence in the batch, or use `padding='max_length'` to pad to a max length. In this case, you can give a specific length with `max_length` (e.g. `max_length=45`) or leave max_length to None to pad to the maximal input size of the model (e.g. 512 for Bert).\n",
      "  warnings.warn(\n"
     ]
    }
   ],
   "source": [
    "input_ids=[]\n",
    "attention_masks=[]\n",
    "\n",
    "for sent in sentences:\n",
    "    dbert_inps=dbert_tokenizer.encode_plus(sent,add_special_tokens = True,max_length =max_len,pad_to_max_length = True,return_attention_mask = True,truncation=True)\n",
    "    input_ids.append(dbert_inps['input_ids'])\n",
    "    attention_masks.append(dbert_inps['attention_mask'])\n",
    "\n",
    "input_ids=np.asarray(input_ids)\n",
    "attention_masks=np.array(attention_masks)\n",
    "labels=np.array(labels)"
   ]
  },
  {
   "cell_type": "code",
   "execution_count": 75,
   "metadata": {},
   "outputs": [
    {
     "data": {
      "text/plain": [
       "(47837, 47837, 47837)"
      ]
     },
     "execution_count": 75,
     "metadata": {},
     "output_type": "execute_result"
    }
   ],
   "source": [
    "len(input_ids),len(attention_masks),len(labels)"
   ]
  },
  {
   "cell_type": "markdown",
   "metadata": {},
   "source": [
    "> Save the model input in the pickle files to use it later without performing the above steps"
   ]
  },
  {
   "cell_type": "code",
   "execution_count": 76,
   "metadata": {},
   "outputs": [
    {
     "name": "stdout",
     "output_type": "stream",
     "text": [
      "Preparing the pickle file.....\n"
     ]
    }
   ],
   "source": [
    "print('Preparing the pickle file.....')\n",
    "\n",
    "pickle_inp_path='./data/pickle_files/dbert_inp.pkl'\n",
    "pickle_mask_path='./data/pickle_files/dbert_mask.pkl'\n",
    "pickle_label_path='./data/pickle_files/dbert_label.pkl'"
   ]
  },
  {
   "cell_type": "code",
   "execution_count": 78,
   "metadata": {},
   "outputs": [
    {
     "name": "stdout",
     "output_type": "stream",
     "text": [
      "Pickle files saved as  ./data/pickle_files/dbert_inp.pkl ./data/pickle_files/dbert_mask.pkl ./data/pickle_files/dbert_label.pkl\n"
     ]
    }
   ],
   "source": [
    "pickle.dump((input_ids),open(pickle_inp_path,'wb'))\n",
    "pickle.dump((attention_masks),open(pickle_mask_path,'wb'))\n",
    "pickle.dump((labels),open(pickle_label_path,'wb'))\n",
    "\n",
    "\n",
    "print('Pickle files saved as ',pickle_inp_path,pickle_mask_path,pickle_label_path)"
   ]
  },
  {
   "cell_type": "code",
   "execution_count": 79,
   "metadata": {},
   "outputs": [
    {
     "name": "stdout",
     "output_type": "stream",
     "text": [
      "Loading the saved pickle files..\n",
      "Input shape (47837, 32) Attention mask shape (47837, 32) Input label shape (47837,)\n"
     ]
    }
   ],
   "source": [
    "print('Loading the saved pickle files..')\n",
    "\n",
    "input_ids=pickle.load(open(pickle_inp_path, 'rb'))\n",
    "attention_masks=pickle.load(open(pickle_mask_path, 'rb'))\n",
    "labels=pickle.load(open(pickle_label_path, 'rb'))\n",
    "\n",
    "print('Input shape {} Attention mask shape {} Input label shape {}'.format(input_ids.shape,attention_masks.shape,labels.shape))"
   ]
  },
  {
   "cell_type": "code",
   "execution_count": 80,
   "metadata": {},
   "outputs": [],
   "source": [
    "label_class_dict = dict(enumerate(data['category'].unique()))\n",
    "target_names = label_class_dict.values()"
   ]
  },
  {
   "cell_type": "markdown",
   "metadata": {},
   "source": [
    "> Train Test split and setting up the loss function, accuracy and optimizer for the model. "
   ]
  },
  {
   "cell_type": "code",
   "execution_count": 81,
   "metadata": {},
   "outputs": [
    {
     "name": "stdout",
     "output_type": "stream",
     "text": [
      "Train inp shape (38269, 32) Val input shape (9568, 32)\n",
      "Train label shape (38269,) Val label shape (9568,)\n",
      "Train attention mask shape (38269, 32) Val attention mask shape (9568, 32)\n"
     ]
    }
   ],
   "source": [
    "train_inp,val_inp,train_label,val_label,train_mask,val_mask=train_test_split(input_ids,labels,attention_masks,test_size=0.2)\n",
    "\n",
    "print('Train inp shape {} Val input shape {}\\nTrain label shape {} Val label shape {}\\nTrain attention mask shape {} Val attention mask shape {}'.format(train_inp.shape,val_inp.shape,train_label.shape,val_label.shape,train_mask.shape,val_mask.shape))\n",
    "\n",
    "\n",
    "log_dir='dbert_model'\n",
    "model_save_path='./dbert_model.h5'\n",
    "\n",
    "callbacks = [tf.keras.callbacks.ModelCheckpoint(filepath=model_save_path,save_weights_only=True,monitor='val_loss',mode='min',save_best_only=True),keras.callbacks.TensorBoard(log_dir=log_dir)]\n",
    "\n",
    "loss = tf.keras.losses.SparseCategoricalCrossentropy(from_logits=True)\n",
    "metric = tf.keras.metrics.SparseCategoricalAccuracy('accuracy')\n",
    "optimizer = tf.keras.optimizers.Adam(learning_rate=3e-5)\n",
    "\n",
    "model.compile(loss=loss,optimizer=optimizer, metrics=[metric])"
   ]
  },
  {
   "cell_type": "code",
   "execution_count": 82,
   "metadata": {},
   "outputs": [],
   "source": [
    "callbacks= [tf.keras.callbacks.ModelCheckpoint(filepath=model_save_path,save_weights_only=True,monitor='val_loss',mode='min',save_best_only=True),keras.callbacks.TensorBoard(log_dir=log_dir)]\n",
    "model.compile(loss=loss,optimizer=optimizer, metrics=[metric])"
   ]
  },
  {
   "cell_type": "markdown",
   "metadata": {},
   "source": [
    "### Training"
   ]
  },
  {
   "cell_type": "code",
   "execution_count": 83,
   "metadata": {},
   "outputs": [
    {
     "name": "stdout",
     "output_type": "stream",
     "text": [
      "Epoch 1/5\n"
     ]
    },
    {
     "name": "stderr",
     "output_type": "stream",
     "text": [
      "/Users/fotiem.constant/.pyenv/versions/3.10.6/lib/python3.10/site-packages/keras/src/backend.py:5727: UserWarning: \"`sparse_categorical_crossentropy` received `from_logits=True`, but the `output` argument was produced by a Softmax activation and thus does not represent logits. Was this intended?\n",
      "  output, from_logits = _get_logits(\n"
     ]
    },
    {
     "name": "stdout",
     "output_type": "stream",
     "text": [
      "2392/2392 [==============================] - 9941s 4s/step - loss: 4.1571 - accuracy: 0.8225 - val_loss: 2.2996 - val_accuracy: 0.8486\n",
      "Epoch 2/5\n",
      "2392/2392 [==============================] - 8870s 4s/step - loss: 1.5658 - accuracy: 0.8659 - val_loss: 1.1435 - val_accuracy: 0.8412\n",
      "Epoch 3/5\n",
      "2392/2392 [==============================] - 8996s 4s/step - loss: 0.7965 - accuracy: 0.8950 - val_loss: 0.7721 - val_accuracy: 0.8464\n",
      "Epoch 4/5\n",
      "2392/2392 [==============================] - 12610s 5s/step - loss: 0.4778 - accuracy: 0.9218 - val_loss: 0.6512 - val_accuracy: 0.8504\n",
      "Epoch 5/5\n",
      "2392/2392 [==============================] - 10476s 4s/step - loss: 0.3179 - accuracy: 0.9426 - val_loss: 0.6385 - val_accuracy: 0.8446\n"
     ]
    }
   ],
   "source": [
    "history=model.fit([train_inp,train_mask],train_label,batch_size=16,epochs=5,validation_data=([val_inp,val_mask],val_label),callbacks=callbacks)"
   ]
  },
  {
   "cell_type": "markdown",
   "metadata": {},
   "source": [
    "### Tensorboard visualization (Training-Testing curve)"
   ]
  },
  {
   "cell_type": "code",
   "execution_count": 88,
   "metadata": {},
   "outputs": [
    {
     "name": "stdout",
     "output_type": "stream",
     "text": [
      "The tensorboard extension is already loaded. To reload it, use:\n",
      "  %reload_ext tensorboard\n"
     ]
    }
   ],
   "source": [
    "%load_ext tensorboard"
   ]
  },
  {
   "cell_type": "code",
   "execution_count": 89,
   "metadata": {},
   "outputs": [
    {
     "data": {
      "text/plain": [
       "Reusing TensorBoard on port 6006 (pid 28401), started 0:17:36 ago. (Use '!kill 28401' to kill it.)"
      ]
     },
     "metadata": {},
     "output_type": "display_data"
    },
    {
     "data": {
      "text/html": [
       "\n",
       "      <iframe id=\"tensorboard-frame-1d1d286e4635100b\" width=\"100%\" height=\"800\" frameborder=\"0\">\n",
       "      </iframe>\n",
       "      <script>\n",
       "        (function() {\n",
       "          const frame = document.getElementById(\"tensorboard-frame-1d1d286e4635100b\");\n",
       "          const url = new URL(\"http://localhost\");\n",
       "          const port = 6006;\n",
       "          if (port) {\n",
       "            url.port = port;\n",
       "          }\n",
       "          frame.src = url;\n",
       "        })();\n",
       "      </script>\n",
       "    "
      ],
      "text/plain": [
       "<IPython.core.display.HTML object>"
      ]
     },
     "metadata": {},
     "output_type": "display_data"
    }
   ],
   "source": [
    "%tensorboard --logdir {log_dir}"
   ]
  },
  {
   "cell_type": "markdown",
   "metadata": {},
   "source": [
    "### We will Increase the number of epochs in order to decrease the loss further\n",
    "Here we will use the saved model for predictions and calculating the evaluation metrics"
   ]
  },
  {
   "cell_type": "code",
   "execution_count": 86,
   "metadata": {},
   "outputs": [
    {
     "name": "stdout",
     "output_type": "stream",
     "text": [
      "Model: \"model_1\"\n",
      "__________________________________________________________________________________________________\n",
      " Layer (type)                Output Shape                 Param #   Connected to                  \n",
      "==================================================================================================\n",
      " input_5 (InputLayer)        [(None, 32)]                 0         []                            \n",
      "                                                                                                  \n",
      " input_6 (InputLayer)        [(None, 32)]                 0         []                            \n",
      "                                                                                                  \n",
      " tf_distil_bert_model_1 (TF  TFBaseModelOutput(last_hid   6636288   ['input_5[0][0]',             \n",
      " DistilBertModel)            den_state=(None, 32, 768),   0          'input_6[0][0]']             \n",
      "                              hidden_states=None, atten                                           \n",
      "                             tions=None)                                                          \n",
      "                                                                                                  \n",
      " tf.__operators__.getitem_2  (None, 768)                  0         ['tf_distil_bert_model_1[1][0]\n",
      "  (SlicingOpLambda)                                                 ']                            \n",
      "                                                                                                  \n",
      " dense_3 (Dense)             (None, 512)                  393728    ['tf.__operators__.getitem_2[0\n",
      "                                                                    ][0]']                        \n",
      "                                                                                                  \n",
      " dropout_40 (Dropout)        (None, 512)                  0         ['dense_3[0][0]']             \n",
      "                                                                                                  \n",
      " dense_4 (Dense)             (None, 13)                   6669      ['dropout_40[0][0]']          \n",
      "                                                                                                  \n",
      "==================================================================================================\n",
      "Total params: 66763277 (254.68 MB)\n",
      "Trainable params: 66763277 (254.68 MB)\n",
      "Non-trainable params: 0 (0.00 Byte)\n",
      "__________________________________________________________________________________________________\n",
      "None\n"
     ]
    }
   ],
   "source": [
    "trained_model = create_model()\n",
    "trained_model.compile(loss=loss,optimizer=optimizer, metrics=[metric])\n",
    "trained_model.load_weights(model_save_path)"
   ]
  },
  {
   "cell_type": "code",
   "execution_count": 114,
   "metadata": {},
   "outputs": [
    {
     "name": "stdout",
     "output_type": "stream",
     "text": [
      "598/598 [==============================] - 960s 2s/step\n"
     ]
    },
    {
     "data": {
      "text/plain": [
       "0.8381137426950556"
      ]
     },
     "execution_count": 114,
     "metadata": {},
     "output_type": "execute_result"
    }
   ],
   "source": [
    "preds = trained_model.predict([val_inp,val_mask],batch_size=16)\n",
    "pred_labels = preds.argmax(axis=1)\n",
    "f1 = f1_score(val_label, pred_labels, average='weighted')\n",
    "f1"
   ]
  },
  {
   "cell_type": "code",
   "execution_count": 129,
   "metadata": {},
   "outputs": [
    {
     "name": "stdout",
     "output_type": "stream",
     "text": [
      "[ 5  4  6  7 11  8 12  9  3 10  1  0  2]\n",
      "(9568,)\n",
      "(9568,)\n",
      "F1 score: 0.8381137426950556\n",
      "Classification Report:\n",
      "              precision    recall  f1-score   support\n",
      "\n",
      "           1       0.00      0.00      0.00        16\n",
      "           3       0.55      0.23      0.32        26\n",
      "           4       0.90      0.92      0.91      6787\n",
      "           5       0.72      0.79      0.76      1858\n",
      "           6       0.56      0.39      0.46       502\n",
      "           7       0.54      0.34      0.42       185\n",
      "           8       0.90      0.72      0.80        39\n",
      "           9       0.80      0.32      0.46        37\n",
      "          11       0.72      0.54      0.62       112\n",
      "          12       0.00      0.00      0.00         6\n",
      "\n",
      "    accuracy                           0.84      9568\n",
      "   macro avg       0.57      0.43      0.47      9568\n",
      "weighted avg       0.84      0.84      0.84      9568\n",
      "\n",
      "Training and saving built model...\n"
     ]
    },
    {
     "name": "stderr",
     "output_type": "stream",
     "text": [
      "/Users/fotiem.constant/.pyenv/versions/3.10.6/lib/python3.10/site-packages/sklearn/metrics/_classification.py:1469: UndefinedMetricWarning: Precision and F-score are ill-defined and being set to 0.0 in labels with no predicted samples. Use `zero_division` parameter to control this behavior.\n",
      "  _warn_prf(average, modifier, msg_start, len(result))\n",
      "/Users/fotiem.constant/.pyenv/versions/3.10.6/lib/python3.10/site-packages/sklearn/metrics/_classification.py:1469: UndefinedMetricWarning: Precision and F-score are ill-defined and being set to 0.0 in labels with no predicted samples. Use `zero_division` parameter to control this behavior.\n",
      "  _warn_prf(average, modifier, msg_start, len(result))\n",
      "/Users/fotiem.constant/.pyenv/versions/3.10.6/lib/python3.10/site-packages/sklearn/metrics/_classification.py:1469: UndefinedMetricWarning: Precision and F-score are ill-defined and being set to 0.0 in labels with no predicted samples. Use `zero_division` parameter to control this behavior.\n",
      "  _warn_prf(average, modifier, msg_start, len(result))\n"
     ]
    }
   ],
   "source": [
    "print(target_names)\n",
    "# print(target_names.shape)\n",
    "print(val_label.shape)\n",
    "print(pred_labels.shape)\n",
    "\n",
    "\n",
    "# we print F1 score and classification report\n",
    "print('F1 score:', f1)\n",
    "print('Classification Report:')\n",
    "print(classification_report(val_label, pred_labels))\n",
    "\n",
    "print('Training and saving built model...')"
   ]
  }
 ],
 "metadata": {
  "kernelspec": {
   "display_name": "Python 3",
   "language": "python",
   "name": "python3"
  },
  "language_info": {
   "codemirror_mode": {
    "name": "ipython",
    "version": 3
   },
   "file_extension": ".py",
   "mimetype": "text/x-python",
   "name": "python",
   "nbconvert_exporter": "python",
   "pygments_lexer": "ipython3",
   "version": "3.10.6"
  }
 },
 "nbformat": 4,
 "nbformat_minor": 2
}
